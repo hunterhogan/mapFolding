{
 "cells": [
  {
   "cell_type": "markdown",
   "metadata": {},
   "source": [
    "# Initialize\n",
    "Do more test counts to feel more confident about the code."
   ]
  },
  {
   "cell_type": "code",
   "execution_count": 1,
   "metadata": {},
   "outputs": [],
   "source": [
    "from mapFolding import oeisIDfor_n\n",
    "from mapFolding.oeis import settingsOEIS\n",
    "from timeit import default_timer as timer\n",
    "from tqdm.auto import tqdm\n",
    "\n",
    "dictionaryOfTimeTuples = {key: [] for key in settingsOEIS.keys()}\n",
    "def warm_up():\n",
    "    first_key = list(settingsOEIS.keys())[0]\n",
    "    oeisIDfor_n(first_key, 2)\n",
    "\n",
    "# Helper function to benchmark OEIS sequence calculations\n",
    "def benchmark_oeis_sequences(threshold):\n",
    "    for oeisID, settings in tqdm(settingsOEIS.items()):\n",
    "        # Find the last n value already tested for this oeisID\n",
    "        listTimes = dictionaryOfTimeTuples.get(oeisID, [])\n",
    "        if listTimes:\n",
    "            n, timeTotal = listTimes[-1]\n",
    "            n += 1\n",
    "        else:\n",
    "            n = 2\n",
    "            timeTotal = 0\n",
    "\n",
    "        while timeTotal < threshold:\n",
    "            timeStart = timer()\n",
    "            foldsTotal = oeisIDfor_n(oeisID, n)\n",
    "            timeTotal = timer() - timeStart\n",
    "            assert foldsTotal == settings['valuesKnown'][n]\n",
    "\n",
    "            dictionaryOfTimeTuples[oeisID].append((n, timeTotal))\n",
    "            n += 1\n"
   ]
  },
  {
   "cell_type": "markdown",
   "metadata": {},
   "source": [
    "# Run Tests up to a reasonable time threshold"
   ]
  },
  {
   "cell_type": "code",
   "execution_count": 3,
   "metadata": {},
   "outputs": [
    {
     "data": {
      "application/vnd.jupyter.widget-view+json": {
       "model_id": "78dfe71a4b4140ffa5e80ef5a14d30d8",
       "version_major": 2,
       "version_minor": 0
      },
      "text/plain": [
       "  0%|          | 0/5 [00:00<?, ?it/s]"
      ]
     },
     "metadata": {},
     "output_type": "display_data"
    },
    {
     "name": "stdout",
     "output_type": "stream",
     "text": [
      "Number of ways of folding a 2 X n strip of stamps.\n",
      "Number of ways of folding a 3 X n strip of stamps.\n",
      "Number of ways of folding a 2 X 2 X ... X 2 n-dimensional map.\n",
      "Number of ways of folding a 3 X 3 X ... X 3 n-dimensional map.\n",
      "Number of ways of folding an n X n sheet of stamps.\n",
      "A001415\t13\t4.9015143000287935\n",
      "A001416\t9\t9.756552099948749\n",
      "A001417\t6\t26.45276939996984\n",
      "A195646\t3\t2.1654033000813797\n",
      "A001418\t6\t664.6255842000246\n"
     ]
    }
   ],
   "source": [
    "# Compile the code with numba, jax, or something\n",
    "warm_up()\n",
    "\n",
    "# Configuration for threshold (in seconds)\n",
    "# You don't need to repeat tests if you increase the threshold without restarting the notebook\n",
    "# 2x2x2x2x2x2 takes longer than you probably expect\n",
    "# 3x3x3x3 takes a lot longer than you might expect: be careful with time thresholds that might try to count it\n",
    "# Also, overhead from a notebook or IDE can slow it down\n",
    "threshold = 0.8\n",
    "threshold = 1.9\n",
    "\n",
    "benchmark_oeis_sequences(threshold)\n",
    "\n",
    "for oeisID, listTimes in dictionaryOfTimeTuples.items():\n",
    "    n, timeTotal = listTimes[-1]\n",
    "    print(oeisID, n, timeTotal, settingsOEIS[oeisID][\"description\"], sep=\"\\t\") # type: ignore\n"
   ]
  },
  {
   "cell_type": "markdown",
   "metadata": {},
   "source": [
    "# Check the maximum value of a data type"
   ]
  },
  {
   "cell_type": "code",
   "execution_count": null,
   "metadata": {},
   "outputs": [],
   "source": [
    "import numpy\n",
    "integerSize = numpy.uint64\n",
    "f = 10**14\n",
    "import numpy\n",
    "comparand = 257\n",
    "dtypeMaximumValue = numpy.iinfo(numpy.int16).max\n",
    "print(comparand < dtypeMaximumValue)\n"
   ]
  }
 ],
 "metadata": {
  "kernelspec": {
   "display_name": "mapFolding",
   "language": "python",
   "name": "python3"
  },
  "language_info": {
   "codemirror_mode": {
    "name": "ipython",
    "version": 3
   },
   "file_extension": ".py",
   "mimetype": "text/x-python",
   "name": "python",
   "nbconvert_exporter": "python",
   "pygments_lexer": "ipython3",
   "version": "3.12.7"
  }
 },
 "nbformat": 4,
 "nbformat_minor": 2
}
