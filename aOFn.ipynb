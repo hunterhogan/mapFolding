{
  "cells": [
    {
      "cell_type": "code",
      "execution_count": null,
      "metadata": {
        "id": "Dq0bX-38pYc3"
      },
      "outputs": [],
      "source": [
        "%pip install -qq git+https://github.com/hunterhogan/mapFolding.git@lego"
      ]
    },
    {
      "cell_type": "code",
      "execution_count": null,
      "metadata": {
        "id": "3oezX-5DpYc5"
      },
      "outputs": [],
      "source": [
        "from mapFolding import oeisSequence_aOFn\n",
        "from mapFolding.oeis import settingsOEISsequences\n",
        "import time\n",
        "\n",
        "oeisID = 'A001415'\n",
        "n = 3\n",
        "\n",
        "timeStart = time.perf_counter()\n",
        "foldingsTotal = oeisSequence_aOFn(oeisID, n)\n",
        "print(foldingsTotal == settingsOEISsequences[oeisID]['valuesKnown'][n],\n",
        "        foldingsTotal, f\"{time.perf_counter() - timeStart:.2f}\")\n"
      ]
    }
  ],
  "metadata": {
    "kernelspec": {
      "display_name": "Python 3",
      "name": "python3"
    },
    "language_info": {
      "name": "python",
      "version": "3.12.7"
    },
    "colab": {
      "provenance": [],
      "gpuType": "T4"
    },
    "accelerator": "GPU"
  },
  "nbformat": 4,
  "nbformat_minor": 0
}