{
 "cells": [
  {
   "cell_type": "code",
   "execution_count": null,
   "metadata": {},
   "outputs": [],
   "source": [
    "%pip install -qq git+https://github.com/hunterhogan/mapFolding.git@lego"
   ]
  },
  {
   "cell_type": "code",
   "execution_count": 2,
   "metadata": {},
   "outputs": [
    {
     "name": "stdout",
     "output_type": "stream",
     "text": [
      "True 60 0.00\n"
     ]
    }
   ],
   "source": [
    "from mapFolding import oeisSequence_aOFn\n",
    "from mapFolding.oeis import settingsOEISsequences\n",
    "import time\n",
    "\n",
    "oeisID = 'A001415'\n",
    "n = 3\n",
    "\n",
    "timeStart = time.perf_counter()\n",
    "foldingsTotal = oeisSequence_aOFn(oeisID, n)\n",
    "print(foldingsTotal == settingsOEISsequences[oeisID]['valuesKnown'][n], \n",
    "        foldingsTotal, f\"{time.perf_counter() - timeStart:.2f}\")\n"
   ]
  }
 ],
 "metadata": {
  "kernelspec": {
   "display_name": "mapFolding",
   "language": "python",
   "name": "python3"
  },
  "language_info": {
   "codemirror_mode": {
    "name": "ipython",
    "version": 3
   },
   "file_extension": ".py",
   "mimetype": "text/x-python",
   "name": "python",
   "nbconvert_exporter": "python",
   "pygments_lexer": "ipython3",
   "version": "3.12.7"
  }
 },
 "nbformat": 4,
 "nbformat_minor": 2
}
