{
 "cells": [
  {
   "cell_type": "code",
   "execution_count": null,
   "metadata": {},
   "outputs": [],
   "source": [
    "%pip install git+https://github.com/hunterhogan/mapFolding.git@JAX\n",
    "%pip install --upgrade jax jaxlib+cuda12_pip\n",
    "%pip install --upgrade jax[tpu] -f https://storage.googleapis.com/jax-releases/libtpu_releases.html\n",
    "import jax\n",
    "print(\"Device:\", jax.devices()[0])"
   ]
  },
  {
   "cell_type": "code",
   "execution_count": null,
   "metadata": {},
   "outputs": [],
   "source": [
    "jax.config.update('jax_platform_name', 'gpu')\n",
    "jax.config.update('jax_platform_name', 'tpu')"
   ]
  },
  {
   "cell_type": "code",
   "execution_count": null,
   "metadata": {},
   "outputs": [],
   "source": [
    "from mapFolding import oeisSequence_aOFn\n",
    "from mapFolding.oeis import settingsOEISsequences\n",
    "import time\n",
    "\n",
    "oeisID = 'A001415'\n",
    "n = 12\n",
    "timeStart = time.perf_counter()\n",
    "foldingsTotal = oeisSequence_aOFn(oeisID, n)\n",
    "print(foldingsTotal == settingsOEISsequences[oeisID]['valuesKnown'][n], foldingsTotal, f\"{time.perf_counter() - timeStart:.2f}\")\n"
   ]
  }
 ],
 "metadata": {
  "kernelspec": {
   "display_name": "mapFolding",
   "language": "python",
   "name": "python3"
  },
  "language_info": {
   "codemirror_mode": {
    "name": "ipython",
    "version": 3
   },
   "file_extension": ".py",
   "mimetype": "text/x-python",
   "name": "python",
   "nbconvert_exporter": "python",
   "pygments_lexer": "ipython3",
   "version": "3.12.7"
  }
 },
 "nbformat": 4,
 "nbformat_minor": 2
}
