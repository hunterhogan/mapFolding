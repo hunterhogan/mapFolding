{
  "cells": [
    {
      "cell_type": "code",
      "execution_count": null,
      "metadata": {
        "id": "Dq0bX-38pYc3"
      },
      "outputs": [],
      "source": [
        "%pip install git+https://github.com/hunterhogan/mapFolding.git@lego"
      ]
    },
    {
      "cell_type": "code",
      "execution_count": null,
      "metadata": {
        "id": "3oezX-5DpYc5"
      },
      "outputs": [],
      "source": [
        "from mapFolding import oeisSequence_aOFn\n",
        "from mapFolding.oeis import settingsOEISsequences\n",
        "import time\n",
        "\n",
        "oeisID = 'A001415'\n",
        "n = 3\n",
        "\n",
        "timeStart = time.perf_counter()\n",
        "foldingsTotal = oeisSequence_aOFn(oeisID, n)\n",
        "print(foldingsTotal == settingsOEISsequences[oeisID]['valuesKnown'][n],\n",
        "        foldingsTotal, f\"{time.perf_counter() - timeStart:.2f}\")\n"
      ]
    },
    {
      "cell_type": "code",
      "source": [
        "from mapFolding import countFolds\n",
        "from tests import generateDictionaryDimensionsFoldingsTotal\n",
        "import time\n",
        "\n",
        "listDimensions = [2,2]\n",
        "knownTotals = generateDictionaryDimensionsFoldingsTotal()\n",
        "\n",
        "timeStart = time.perf_counter()\n",
        "# foldingsTotal = countFolds(listDimensions.copy(), False)\n",
        "foldingsTotal = countFolds(listDimensions.copy(), True)\n",
        "# foldingsTotal = countFolds(listDimensions.copy())\n",
        "print(foldingsTotal, end=' ')\n",
        "print(time.perf_counter() - timeStart, end=' ')\n",
        "print(foldingsTotal == knownTotals[tuple(sorted(listDimensions))],\n",
        "        # knownTotals[tuple(sorted(listDimensions))]\n",
        "        )\n"
      ],
      "metadata": {
        "id": "xw5CoLfKqk-B"
      },
      "execution_count": null,
      "outputs": []
    }
  ],
  "metadata": {
    "accelerator": "GPU",
    "colab": {
      "gpuType": "T4",
      "provenance": []
    },
    "kernelspec": {
      "display_name": "mapFolding",
      "language": "python",
      "name": "python3"
    },
    "language_info": {
      "name": "python",
      "version": "3.12.7"
    }
  },
  "nbformat": 4,
  "nbformat_minor": 0
}