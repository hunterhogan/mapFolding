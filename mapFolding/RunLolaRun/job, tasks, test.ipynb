{
 "cells": [
  {
   "cell_type": "code",
   "execution_count": 2,
   "metadata": {},
   "outputs": [],
   "source": [
    "from mapFolding.RunLolaRun.lolaGenerateJob import makeJob\n",
    "makeJob([2,14], \"/apps/mapFolding/mapFolding/jobs\")"
   ]
  },
  {
   "cell_type": "code",
   "execution_count": null,
   "metadata": {},
   "outputs": [],
   "source": [
    "from mapFolding.RunLolaRun.lolaDoTask import doCountFoldsTask\n",
    "doCountFoldsTask(\"/apps/mapFolding/mapFolding/jobs/[2,19]/01.pkl\")"
   ]
  },
  {
   "cell_type": "markdown",
   "metadata": {},
   "source": [
    "# Test the job/task system"
   ]
  },
  {
   "cell_type": "code",
   "execution_count": null,
   "metadata": {},
   "outputs": [],
   "source": [
    "from mapFolding.RunLolaRun.lolaGenerateJob import makeJob\n",
    "from mapFolding.RunLolaRun.lolaDoTask import doCountFoldsTask\n",
    "import pathlib\n",
    "from tqdm.auto import tqdm\n",
    "import pathlib\n",
    "from tests import makeDictionaryFoldsTotalKnown\n",
    "\n",
    "# TODO configure these parameters\n",
    "listDimensionsJob = [ 2, 14 ]\n",
    "pathJobs = pathlib.Path(\"/apps/mapFolding/mapFolding/jobs\")\n",
    "\"\"\" ^^^^^ NOTE look here ^^^^^ \"\"\"\n",
    "\n",
    "pathJobTasks = pathJobs / f\"[{','.join(map(str, listDimensionsJob))}]\"\n",
    "\n",
    "# Divide the job into multiple task files\n",
    "makeJob(listDimensionsJob, pathJobs)\n",
    "\n",
    "for pathFilename in tqdm(pathJobTasks.rglob(\"*.pkl\")):\n",
    "    # Compute a subtotal for a task file\n",
    "    doCountFoldsTask(pathFilename)\n",
    "\n",
    "# Sum up the subtotal files\n",
    "foldsTotal = 0\n",
    "for pathFilename in pathJobTasks.rglob(\"*.foldsSubTotal\"):\n",
    "    foldsTotal += int(pathFilename.read_text())\n",
    "\n",
    "# Since this is a test compare the computation to the known value\n",
    "dictionaryTotals = makeDictionaryFoldsTotalKnown()\n",
    "knownTotal = dictionaryTotals[tuple(listDimensionsJob)]\n",
    "print(foldsTotal == knownTotal, end=' ')\n",
    "print(foldsTotal)\n"
   ]
  }
 ],
 "metadata": {
  "kernelspec": {
   "display_name": "mapFolding",
   "language": "python",
   "name": "python3"
  },
  "language_info": {
   "codemirror_mode": {
    "name": "ipython",
    "version": 3
   },
   "file_extension": ".py",
   "mimetype": "text/x-python",
   "name": "python",
   "nbconvert_exporter": "python",
   "pygments_lexer": "ipython3",
   "version": "3.12.7"
  }
 },
 "nbformat": 4,
 "nbformat_minor": 2
}
