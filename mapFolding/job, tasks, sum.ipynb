{
 "cells": [
  {
   "cell_type": "code",
   "execution_count": 1,
   "metadata": {},
   "outputs": [],
   "source": [
    "from mapFolding.lolaGenerateJob import makeJob\n",
    "from mapFolding.oeis import settingsOEIS\n",
    "\n",
    "for oeisID, settings in settingsOEIS.items():\n",
    "    if 'A001417' not in oeisID: continue\n",
    "    listDimensions = settings['getDimensions'](settings[\"valueUnknown\"])\n",
    "    makeJob(listDimensions, \"/apps/mapFolding/mapFolding/jobs\")"
   ]
  },
  {
   "cell_type": "code",
   "execution_count": null,
   "metadata": {},
   "outputs": [],
   "source": [
    "from mapFolding.lolaDoTask import doCountFoldsTask\n",
    "import pathlib\n",
    "import time\n",
    "\n",
    "for pathFilename in pathlib.Path(\"/apps/mapFolding/mapFolding/jobs/[2,19]\").rglob(\"*.pkl\"):\n",
    "    timeStart = time.perf_counter()\n",
    "    doCountFoldsTask(pathFilename)\n",
    "    print(time.perf_counter() - timeStart, end=' ')\n"
   ]
  },
  {
   "cell_type": "code",
   "execution_count": null,
   "metadata": {},
   "outputs": [],
   "source": [
    "import pathlib\n",
    "from tests import makeDictionaryFoldsTotalKnown\n",
    "\n",
    "foldsTotal = 0\n",
    "for pathFilename in pathlib.Path(\"/apps/mapFolding/mapFolding/jobs/[2,14]\").rglob(\"*.foldsSubTotal\"):\n",
    "    foldsTotal += int(pathFilename.read_text())\n",
    "dictionaryTotals = makeDictionaryFoldsTotalKnown()\n",
    "knownTotal = dictionaryTotals[(2,14)]\n",
    "print(foldsTotal == knownTotal, end=' ')\n",
    "print(foldsTotal)\n"
   ]
  }
 ],
 "metadata": {
  "kernelspec": {
   "display_name": "mapFolding",
   "language": "python",
   "name": "python3"
  },
  "language_info": {
   "codemirror_mode": {
    "name": "ipython",
    "version": 3
   },
   "file_extension": ".py",
   "mimetype": "text/x-python",
   "name": "python",
   "nbconvert_exporter": "python",
   "pygments_lexer": "ipython3",
   "version": "3.12.7"
  }
 },
 "nbformat": 4,
 "nbformat_minor": 2
}
