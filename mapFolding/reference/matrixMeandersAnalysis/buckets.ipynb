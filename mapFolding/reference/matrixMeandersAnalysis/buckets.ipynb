{
 "cells": [
  {
   "cell_type": "markdown",
   "id": "1ed778e4",
   "metadata": {},
   "source": [
    "# A005316"
   ]
  },
  {
   "cell_type": "markdown",
   "id": "4b37ab9f",
   "metadata": {},
   "source": [
    "## Load"
   ]
  },
  {
   "cell_type": "code",
   "execution_count": null,
   "id": "9b2ace98",
   "metadata": {},
   "outputs": [],
   "source": [
    "import matplotlib.pyplot as pyplot\n",
    "import numpy\n",
    "import pandas\n",
    "\n",
    "_columns: list[str] = ['oeisID','n','boundary','buckets','arcCodes','arcCodeBitWidth','crossingsBitWidth']\n",
    "\n",
    "df: pandas.DataFrame = pandas.read_csv('nBoundaryArc.csv', engine='pyarrow')\n",
    "df.columns = _columns"
   ]
  },
  {
   "cell_type": "markdown",
   "id": "be231165",
   "metadata": {},
   "source": [
    "## Add columns"
   ]
  },
  {
   "cell_type": "code",
   "execution_count": null,
   "id": "00b31bfe",
   "metadata": {},
   "outputs": [],
   "source": [
    "from mapFolding.reference.A000682facts import nToInitialArcCodes\n",
    "\n",
    "df['nLess_boundary'] = df['n'] - df['boundary']\n",
    "df['odd_boundary'] = df['boundary'] & 1\n",
    "df['odd_n'] = df['n'] & 1\n",
    "df['odd_nLess_boundary'] = df['nLess_boundary'] & 1"
   ]
  },
  {
   "cell_type": "markdown",
   "id": "de2c4bc5",
   "metadata": {},
   "source": [
    "## Visualize"
   ]
  },
  {
   "cell_type": "code",
   "execution_count": null,
   "id": "69f24126",
   "metadata": {},
   "outputs": [],
   "source": [
    "# pyright: basic\n",
    "\n",
    "fig, axes = pyplot.subplots(1, 1, figsize=(10, 8), sharex=True)\n",
    "for groupByValue, dataframeGroupBy in df.groupby('k'):\n",
    "    axes.plot(dataframeGroupBy['nLess_k'], numpy.log1p(dataframeGroupBy['buckets']), label=f\"k={groupByValue}\")\n",
    "axes.set_ylabel('log1p(buckets)')\n",
    "axes.set_xlabel('n')\n",
    "axes.legend(ncol=4, fontsize=8)\n",
    "pyplot.tight_layout()\n",
    "pyplot.show()"
   ]
  },
  {
   "cell_type": "code",
   "execution_count": null,
   "id": "292f2e29",
   "metadata": {},
   "outputs": [],
   "source": [
    "# pyright: basic\n",
    "\n",
    "fig, axes = pyplot.subplots(2, 2, figsize=(14, 9), sharex=True)\n",
    "for groupByValue, dataframeGroupBy in df_oddOdd.groupby('k'):\n",
    "    axes[0, 0].plot(dataframeGroupBy['nLess_k'], numpy.log1p(dataframeGroupBy['buckets']), label=f\"k={groupByValue}\")\n",
    "for groupByValue, dataframeGroupBy in df_oddEven.groupby('k'):\n",
    "    axes[0, 1].plot(dataframeGroupBy['nLess_k'], numpy.log1p(dataframeGroupBy['buckets']), label=f\"k={groupByValue}\")\n",
    "for groupByValue, dataframeGroupBy in df_evenOdd.groupby('k'):\n",
    "    axes[1, 0].plot(dataframeGroupBy['nLess_k'], numpy.log1p(dataframeGroupBy['buckets']), label=f\"k={groupByValue}\")\n",
    "for groupByValue, dataframeGroupBy in df_evenEven.groupby('k'):\n",
    "    axes[1, 1].plot(dataframeGroupBy['nLess_k'], numpy.log1p(dataframeGroupBy['buckets']), label=f\"k={groupByValue}\")\n",
    "axes[0, 0].set_ylabel('log1p(buckets)')\n",
    "axes[1, 0].set_ylabel('log1p(buckets)')\n",
    "axes[1, 0].set_xlabel('n')\n",
    "axes[1, 1].set_xlabel('n')\n",
    "axes[0, 0].legend(ncol=4, fontsize=8)\n",
    "pyplot.tight_layout()\n",
    "pyplot.show()"
   ]
  },
  {
   "cell_type": "markdown",
   "id": "be125373",
   "metadata": {},
   "source": [
    "## Observations"
   ]
  },
  {
   "cell_type": "code",
   "execution_count": null,
   "id": "de1c5093",
   "metadata": {},
   "outputs": [],
   "source": [
    "from mapFolding.reference.A005316facts import (\n",
    "\tbucketsIf_boundary_EVEN_by_nLess_boundary, bucketsIf_boundary_ODD_by_nLess_boundary)\n",
    "from pprint import pprint\n",
    "\n",
    "pprint(bucketsIf_boundary_ODD_by_nLess_boundary)\n",
    "pprint(bucketsIf_boundary_EVEN_by_nLess_boundary)"
   ]
  },
  {
   "cell_type": "markdown",
   "id": "35d45028",
   "metadata": {},
   "source": [
    "### Initial conditions\n",
    "A005316, closed meanders, always starts with 1 curveLocations. A000682, in contrast, always starts with 2 *or more* curveLocations: `curveLocations = (n // 2) + 2`. This difference makes it easier to analyze A005316 than A000682.\n",
    "\n",
    "Furthermore, there are only 2 initial values of the 1 curveLocations. If n is odd, curveLocations = 15. If n is even, curveLocations = 22. This simplicity is an advantage when analyzing A005316.\n",
    "\n",
    "### Total non-unique buckets is a function of n and boundary\n",
    "\n",
    "If we compare the total number of non-unique buckets (bucketsTotal) at the same boundary across all values of n we can compute, we see three general trends. For a given boundary, as (n - boundary) increases:\n",
    "1. bucketsTotal increases through a specific series of values.\n",
    "2. At roughly boundary = n/2, bucketsTotal increases at an ever decreasing rate.\n",
    "3. At roughly boundary = 2n, bucketsTotal stops increasing.\n",
    "\n",
    "### More facts\n",
    "- For example, for n >= 4 and boundary=1, bucketsTotal=3. Always. (The maximums also apply to A000682: in this case, for n >= 5 and boundary=1, bucketsTotal=3.)\n",
    "- From n-boundary>=1 to boundary<=(n+1)//2, the value of buckets has two series: for odd and even values of boundary. (Hopefully, the Python cell above has the two series.)\n",
    "- In each series, it seems easier to describe the growth by dividing the series into odd and even values of n-boundary.\n",
    "- If boundary is odd, bucketsTotal is maxed out at (boundary*2+2 <= n-boundary)\n",
    "- If boundary is even, bucketsTotal is maxed out at (boundary*2+1 <= n-boundary)\n",
    "- or boundary ≤ (n - 1 - (boundary % 2)) // 3"
   ]
  },
  {
   "cell_type": "markdown",
   "id": "b3295f7d",
   "metadata": {},
   "source": [
    "## Pivot the data"
   ]
  },
  {
   "cell_type": "code",
   "execution_count": null,
   "id": "97b30745",
   "metadata": {},
   "outputs": [],
   "source": [
    "# Pivot the data to create new columns for each value of 'k'\n",
    "# Flatten the MultiIndex columns and append \"_kX\" to column names\n",
    "# Reset the index to make 'nLess_k' a column and sort by 'nLess_k'\n",
    "def pivotOn_nLess_k(dataframeTarget: pandas.DataFrame) -> pandas.DataFrame:\n",
    "\tpivoted = dataframeTarget.pivot(index='nLess_k', columns='k', values=['n', 'buckets'])\n",
    "\tpivoted.columns = [f\"{col[0]}_k{col[1]}\" for col in pivoted.columns]\n",
    "\tpivoted = pivoted.reset_index().sort_values(by='nLess_k', ascending=True)\n",
    "\tpivoted = pivoted.set_index('nLess_k').reset_index()\n",
    "\treturn pivoted\n",
    "df = pivotOn_nLess_k(df)\n",
    "df_even = pivotOn_nLess_k(df_even)\n",
    "df_odd = pivotOn_nLess_k(df_odd)"
   ]
  },
  {
   "cell_type": "code",
   "execution_count": null,
   "id": "187345b7",
   "metadata": {},
   "outputs": [],
   "source": [
    "bucketsTotalMaximumBy_boundary: dict[int, int] = {1:3, 2:12, 3:40, 4:125, 5:392, 6:1254, 7:4087, 8:13623, 9:46181, 10:159137, 11:555469, 12:1961369, 13:6991893, 14:25134208}\n",
    "\n",
    "nLess_boundary: int = state.n - state.boundary\n",
    "kIsOdd: bool = bool(state.boundary & 1)\n",
    "nLess_boundaryIsOdd: bool = bool(nLess_boundary & 1)\n",
    "kIsEven: bool = not kIsOdd\n",
    "\n",
    "bucketsTotalAtMaximum: bool = state.boundary <= ((state.n - 1 - (state.boundary % 2)) // 3)\n",
    "bucketsTotalGrowsExponentially: bool = state.boundary > nLess_boundary\n",
    "bucketsTotalGrowsLogarithmically: bool = state.boundary > ((state.n - (state.n % 3)) // 3)"
   ]
  }
 ],
 "metadata": {
  "kernelspec": {
   "display_name": ".vanalysis (3.13.7)",
   "language": "python",
   "name": "python3"
  },
  "language_info": {
   "codemirror_mode": {
    "name": "ipython",
    "version": 3
   },
   "file_extension": ".py",
   "mimetype": "text/x-python",
   "name": "python",
   "nbconvert_exporter": "python",
   "pygments_lexer": "ipython3",
   "version": "3.13.7"
  }
 },
 "nbformat": 4,
 "nbformat_minor": 5
}
