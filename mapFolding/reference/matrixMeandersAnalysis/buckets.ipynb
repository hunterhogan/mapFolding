{
 "cells": [
  {
   "cell_type": "markdown",
   "id": "1ed778e4",
   "metadata": {},
   "source": [
    "# Meanders, buckets and signatures"
   ]
  },
  {
   "cell_type": "markdown",
   "id": "4b37ab9f",
   "metadata": {},
   "source": [
    "## Load"
   ]
  },
  {
   "cell_type": "code",
   "execution_count": null,
   "id": "9b2ace98",
   "metadata": {},
   "outputs": [],
   "source": [
    "import matplotlib.pyplot as pyplot\n",
    "import numpy\n",
    "import pandas\n",
    "\n",
    "_columns: list[str] = ['oeisID','n','boundary','buckets','arcCodes','arcCodeBitWidth','crossingsBitWidth']\n",
    "\n",
    "df: pandas.DataFrame = pandas.read_csv('nBoundaryArc.csv', engine='pyarrow')\n",
    "df.columns = _columns"
   ]
  },
  {
   "cell_type": "markdown",
   "id": "be231165",
   "metadata": {},
   "source": [
    "## Add columns"
   ]
  },
  {
   "cell_type": "code",
   "execution_count": null,
   "id": "00b31bfe",
   "metadata": {},
   "outputs": [],
   "source": [
    "df['nLess_boundary'] = df['n'] - df['boundary']\n",
    "df['odd_boundary'] = df['boundary'] & 1\n",
    "df['odd_n'] = df['n'] & 1\n",
    "df['odd_nLess_boundary'] = df['nLess_boundary'] & 1\n",
    "\n",
    "df.loc[df['oeisID'] == 'A000682', 'initialArcCodes'] = (df['n'] // 2) + 2\n",
    "df.loc[df['oeisID'] == 'A005316', 'initialArcCodes'] = 1\n",
    "\n",
    "df.loc[df['oeisID'] == 'A000682', 'initialArcCodesBitWidthMean'] = 4 + df['n'] % 2 + df['n']\n",
    "df.loc[df['oeisID'] == 'A005316', 'initialArcCodesBitWidthMean'] = 4 - df['n'] % 2 + 1\n",
    "\n",
    "df.loc[df['oeisID'] == 'A000682', 'initialArcCodesBitPopulationMean'] = 4 + df['n'] % 2 + df['n']\n",
    "df.loc[df['oeisID'] == 'A005316', 'initialArcCodesBitPopulationMean'] = 4 + df['n'] % 2 - 1\n",
    "\n",
    "df['initialArcCodesBitWidthTotal'] = df['initialArcCodes'] * df['initialArcCodesBitWidthMean']\n",
    "df['initialArcCodesBitPopulationTotal'] = df['initialArcCodes'] * df['initialArcCodesBitPopulationMean']\n",
    "df: pandas.DataFrame = df.sort_values(by=['oeisID', 'n', 'boundary'], ascending=[True, True, False])\n",
    "def addColumnsGrowing(groupBy: pandas.DataFrame) -> pandas.DataFrame:\n",
    "    groupBy['bucketsGrowing'] = groupBy['buckets'].diff().gt(0).fillna(True)\n",
    "    groupBy['arcCodesGrowing'] = groupBy['arcCodes'].diff().gt(0).fillna(True)\n",
    "    return groupBy\n",
    "df = df.groupby(['oeisID', 'n'], group_keys=False).apply(addColumnsGrowing)"
   ]
  },
  {
   "cell_type": "markdown",
   "id": "3eca52f8",
   "metadata": {},
   "source": [
    "# Data playground"
   ]
  },
  {
   "cell_type": "code",
   "execution_count": null,
   "id": "0c004917",
   "metadata": {},
   "outputs": [],
   "source": [
    "df = df[((df['bucketsGrowing'] == True)\n",
    "\t\t\t\t\t& (df['oeisID'] == 'A005316')\n",
    "                    & (df['odd_n'])\n",
    "                    & (~df['odd_boundary'])\n",
    "                    )]"
   ]
  },
  {
   "cell_type": "markdown",
   "id": "be125373",
   "metadata": {},
   "source": [
    "# Facts (?)"
   ]
  },
  {
   "cell_type": "code",
   "execution_count": null,
   "id": "de1c5093",
   "metadata": {},
   "outputs": [],
   "source": [
    "from typing import Any\n",
    "from mapFolding.reference.A005316facts import (\n",
    "\tbucketsIf_boundary_EVEN_by_nLess_boundary, bucketsIf_boundary_ODD_by_nLess_boundary)\n",
    "from pprint import pprint\n",
    "\n",
    "# NOTE I strongly suspect that a better analysis starts with bifurcating on n is odd, then bifurcating the bifurcations on\n",
    "# boundary is odd, and finally ordering by nLess_boundary. But I have not made those tables yet.\n",
    "\n",
    "parameters_pprint: dict[str, Any] = dict(indent=4, width=80, compact=False, sort_dicts=False, underscore_numbers=True)\n",
    "\n",
    "pprint(bucketsIf_boundary_ODD_by_nLess_boundary, **parameters_pprint)\n",
    "pprint(bucketsIf_boundary_EVEN_by_nLess_boundary, **parameters_pprint)"
   ]
  },
  {
   "cell_type": "markdown",
   "id": "35d45028",
   "metadata": {},
   "source": [
    "### My perspective\n",
    "I examined these values so I could solve the pragmatic problem of allocating memory during computation. Therefore, I have tended to focus maxima of buckets and signatures at each boundary, and I have treated n as a second-tier independent variable. I will likely change this to n as the first-rate variable and return boundary to its role as a \"subsection\" of n. \n",
    "\n",
    "### Initial conditions\n",
    "A005316, closed meanders, always starts with 1 arcCode. A000682, in contrast, always starts with 2 *or more* arcCodes: `arcCodes = (n // 2) + 2`. This difference makes it easier to analyze A005316 than A000682.\n",
    "\n",
    "Furthermore, there are only 2 possible initial values of the 1 arcCode. If n is odd, arcCode = 15. If n is even, arcCode = 22. This simplicity is an advantage when analyzing A005316.\n",
    "\n",
    "### Total non-unique buckets is a function of n, boundary, and ?\n",
    "\n",
    "If we compare the total number of non-unique signatures (bucketsTotal) at the same boundary across all values of n we can compute, we see three general trends. For a given boundary, as (n - boundary) increases:\n",
    "1. bucketsTotal increases through a specific series of values.\n",
    "2. At roughly boundary = n/2, bucketsTotal increases at an ever decreasing rate.\n",
    "3. At roughly boundary = 2n, bucketsTotal stops increasing.\n",
    "\n",
    "### More facts\n",
    "- For example, for n >= 4 and boundary=1, bucketsTotal=3. Always. (The maximums also apply to A000682: in this case, for n >= 5 and boundary=1, bucketsTotal=3.)\n",
    "- From n-boundary>=1 to boundary<=(n+1)//2, the value of buckets has two or four series: at least a series for odd and even values of boundary, and those might be bifurcated into odd and even values of n.\n",
    "- In each series, it seems easier to describe the growth by dividing the series into odd and even values of n-boundary.\n",
    "- If boundary is odd, bucketsTotal is maxed out at (boundary*2+2 <= n-boundary)\n",
    "- If boundary is even, bucketsTotal is maxed out at (boundary*2+1 <= n-boundary)\n",
    "- or boundary ≤ (n - 1 - (boundary % 2)) // 3"
   ]
  },
  {
   "cell_type": "markdown",
   "id": "de2c4bc5",
   "metadata": {},
   "source": [
    "# Visualize"
   ]
  },
  {
   "cell_type": "code",
   "execution_count": null,
   "id": "69f24126",
   "metadata": {},
   "outputs": [],
   "source": [
    "# pyright: basic\n",
    "fig, axes = pyplot.subplots(1, 1, figsize=(14, 9), sharex=True)\n",
    "for groupByValue, dataframeGroupBy in df.groupby('boundary'):\n",
    "    axes.plot(dataframeGroupBy['nLess_boundary'], numpy.log1p(dataframeGroupBy['buckets']), label=f\"{groupByValue}\")\n",
    "# for groupByValue, dataframeGroupBy in dfB.groupby('boundary'):\n",
    "#     axes[1].plot(dataframeGroupBy['nLess_boundary'], numpy.log1p(dataframeGroupBy['buckets']), label=f\"{groupByValue}\")\n",
    "axes.set_ylabel('log1p(buckets)')\n",
    "axes.set_xlabel('n')\n",
    "axes.legend(ncol=4, fontsize=8)\n",
    "pyplot.tight_layout()\n",
    "pyplot.show()"
   ]
  },
  {
   "cell_type": "markdown",
   "id": "0826e181",
   "metadata": {},
   "source": [
    "# Tasks"
   ]
  },
  {
   "cell_type": "markdown",
   "id": "103c9d18",
   "metadata": {},
   "source": [
    "## Make the unique signatures dictionary. "
   ]
  },
  {
   "cell_type": "markdown",
   "id": "ee30c955",
   "metadata": {},
   "source": [
    "```python\n",
    "signatures: dict[str, dict[int, dict[int, int]]]\n",
    "```\n",
    "\n",
    "\t\t\t{oeisID: {n: {boundary: arcCodesTotal}}}"
   ]
  },
  {
   "cell_type": "code",
   "execution_count": null,
   "id": "e5f70bf3",
   "metadata": {},
   "outputs": [],
   "source": [
    "from pprint import pprint\n",
    "df: pandas.DataFrame = df.drop(columns=['crossingsBitWidth', 'arcCodeBitWidth', 'buckets'])\n",
    "df = df.sort_values(['oeisID', 'n', 'boundary'])\n",
    "ImaDictionary = df.groupby('oeisID').apply(\n",
    "    lambda x: x.groupby('n').apply(\n",
    "        lambda y: y.set_index('boundary')['arcCodes'].to_dict()\n",
    "    ).to_dict()\n",
    ").to_dict()\n",
    "\n",
    "pprint(ImaDictionary, indent=0, width=120, compact=True, sort_dicts=False)"
   ]
  },
  {
   "cell_type": "markdown",
   "id": "4468c8f1",
   "metadata": {},
   "source": [
    "# Dumping ground for miscellaneous cells"
   ]
  },
  {
   "cell_type": "markdown",
   "id": "b3295f7d",
   "metadata": {},
   "source": [
    "### Pivot the data"
   ]
  },
  {
   "cell_type": "code",
   "execution_count": null,
   "id": "97b30745",
   "metadata": {},
   "outputs": [],
   "source": [
    "# NOTE This is a little old. Watch out, for example, for accidentally collating data from A000682 and A005316.\n",
    "# Pivot the data to create new columns for each value of 'boundary'\n",
    "# Flatten the MultiIndex columns and append \"_boundaryX\" to column names\n",
    "# Reset the index to make 'nLess_boundary' a column and sort by 'nLess_boundary'\n",
    "def pivotOn_nLess_boundary(dataframeTarget: pandas.DataFrame) -> pandas.DataFrame:\n",
    "\tpivoted: pandas.DataFrame = dataframeTarget.pivot(index='nLess_boundary', columns='boundary', values=['n', 'buckets'])\n",
    "\tpivoted.columns = [f\"{column[0]}_boundary{column[1]}\" for column in pivoted.columns]\n",
    "\tpivoted = pivoted.reset_index().sort_values(by='nLess_boundary', ascending=True)\n",
    "\tpivoted = pivoted.set_index('nLess_boundary').reset_index()\n",
    "\treturn pivoted\n",
    "df: pandas.DataFrame = pivotOn_nLess_boundary(df)"
   ]
  },
  {
   "cell_type": "markdown",
   "id": "8fa1122f",
   "metadata": {},
   "source": [
    "### Useful boolean selectors"
   ]
  },
  {
   "cell_type": "code",
   "execution_count": null,
   "id": "187345b7",
   "metadata": {},
   "outputs": [],
   "source": [
    "# nLess_boundary: int = state.n - state.boundary\n",
    "# boundaryIsOdd: bool = bool(state.boundary & 1)\n",
    "# nLess_boundaryIsOdd: bool = bool(nLess_boundary & 1)\n",
    "# boundaryIsEven: bool = not boundaryIsOdd\n",
    "\n",
    "# bucketsTotalAtMaximum: bool = state.boundary <= ((state.n - 1 - (state.boundary % 2)) // 3)\n",
    "# bucketsTotalGrowsExponentially: bool = state.boundary > nLess_boundary\n",
    "# bucketsTotalGrowsLogarithmically: bool = state.boundary > ((state.n - (state.n % 3)) // 3)"
   ]
  }
 ],
 "metadata": {
  "kernelspec": {
   "display_name": ".vanalysis (3.13.7)",
   "language": "python",
   "name": "python3"
  },
  "language_info": {
   "codemirror_mode": {
    "name": "ipython",
    "version": 3
   },
   "file_extension": ".py",
   "mimetype": "text/x-python",
   "name": "python",
   "nbconvert_exporter": "python",
   "pygments_lexer": "ipython3",
   "version": "3.13.7"
  }
 },
 "nbformat": 4,
 "nbformat_minor": 5
}
