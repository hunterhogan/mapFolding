{
 "cells": [
  {
   "cell_type": "markdown",
   "id": "e77f8693",
   "metadata": {},
   "source": [
    "# Estimating 'buckets' as a Function of 'n' and 'k'\n",
    "\n",
    "This notebook analyzes the relationship between the number of 'buckets' and the parameters 'n' and 'k' using data from `df_oddOdd.csv`. We hypothesize a logarithmic model of the form:\n",
    "\n",
    "$$\n",
    "\\log(\\text{buckets}) = a \\log(n) + b \\log(k) + c\n",
    "$$\n",
    "\n",
    "We will fit this model, evaluate its performance, and define a Python function to estimate 'buckets' for given values of 'n' and 'k'."
   ]
  },
  {
   "cell_type": "markdown",
   "id": "021ff6fc",
   "metadata": {},
   "source": [
    "## 1. Load Data from CSV\n",
    "\n",
    "We begin by loading the data from `df_oddOdd.csv` using pandas and displaying the first few rows."
   ]
  },
  {
   "cell_type": "code",
   "execution_count": 1,
   "id": "b0eb9735",
   "metadata": {},
   "outputs": [
    {
     "data": {
      "text/html": [
       "<div>\n",
       "<style scoped>\n",
       "    .dataframe tbody tr th:only-of-type {\n",
       "        vertical-align: middle;\n",
       "    }\n",
       "\n",
       "    .dataframe tbody tr th {\n",
       "        vertical-align: top;\n",
       "    }\n",
       "\n",
       "    .dataframe thead th {\n",
       "        text-align: right;\n",
       "    }\n",
       "</style>\n",
       "<table border=\"1\" class=\"dataframe\">\n",
       "  <thead>\n",
       "    <tr style=\"text-align: right;\">\n",
       "      <th></th>\n",
       "      <th>n</th>\n",
       "      <th>k</th>\n",
       "      <th>buckets</th>\n",
       "    </tr>\n",
       "  </thead>\n",
       "  <tbody>\n",
       "    <tr>\n",
       "      <th>0</th>\n",
       "      <td>2</td>\n",
       "      <td>1</td>\n",
       "      <td>1</td>\n",
       "    </tr>\n",
       "    <tr>\n",
       "      <th>1</th>\n",
       "      <td>6</td>\n",
       "      <td>3</td>\n",
       "      <td>13</td>\n",
       "    </tr>\n",
       "    <tr>\n",
       "      <th>2</th>\n",
       "      <td>10</td>\n",
       "      <td>5</td>\n",
       "      <td>71</td>\n",
       "    </tr>\n",
       "    <tr>\n",
       "      <th>3</th>\n",
       "      <td>12</td>\n",
       "      <td>5</td>\n",
       "      <td>188</td>\n",
       "    </tr>\n",
       "    <tr>\n",
       "      <th>4</th>\n",
       "      <td>14</td>\n",
       "      <td>7</td>\n",
       "      <td>347</td>\n",
       "    </tr>\n",
       "  </tbody>\n",
       "</table>\n",
       "</div>"
      ],
      "text/plain": [
       "    n  k  buckets\n",
       "0   2  1        1\n",
       "1   6  3       13\n",
       "2  10  5       71\n",
       "3  12  5      188\n",
       "4  14  7      347"
      ]
     },
     "execution_count": 1,
     "metadata": {},
     "output_type": "execute_result"
    }
   ],
   "source": [
    "import pandas\n",
    "\n",
    "dataFrameOddOdd = pandas.read_csv('df_oddOdd.csv')\n",
    "dataFrameOddOdd.head()"
   ]
  },
  {
   "cell_type": "markdown",
   "id": "a3667e95",
   "metadata": {},
   "source": [
    "## 2. Visualize Data Relationships\n",
    "\n",
    "Let's visualize how 'buckets' relates to 'n' and 'k' using scatter plots."
   ]
  },
  {
   "cell_type": "code",
   "execution_count": 2,
   "id": "b55346e7",
   "metadata": {},
   "outputs": [
    {
     "data": {
      "image/png": "[encoded data removed]",
      "text/plain": [
       "<Figure size 1000x400 with 2 Axes>"
      ]
     },
     "metadata": {},
     "output_type": "display_data"
    }
   ],
   "source": [
    "import matplotlib.pyplot as pyplot\n",
    "\n",
    "pyplot.figure(figsize=(10, 4))\n",
    "pyplot.subplot(1, 2, 1)\n",
    "pyplot.scatter(dataFrameOddOdd['n'], dataFrameOddOdd['buckets'])\n",
    "pyplot.xlabel('n')\n",
    "pyplot.ylabel('buckets')\n",
    "pyplot.title('Buckets vs n')\n",
    "\n",
    "pyplot.subplot(1, 2, 2)\n",
    "pyplot.scatter(dataFrameOddOdd['k'], dataFrameOddOdd['buckets'])\n",
    "pyplot.xlabel('k')\n",
    "pyplot.ylabel('buckets')\n",
    "pyplot.title('Buckets vs k')\n",
    "\n",
    "pyplot.tight_layout()\n",
    "pyplot.show()"
   ]
  },
  {
   "cell_type": "markdown",
   "id": "c382e708",
   "metadata": {},
   "source": [
    "## 3. Transform Data for Logarithmic Analysis\n",
    "\n",
    "Apply logarithmic transformations to 'buckets', 'n', and 'k' to prepare for model fitting."
   ]
  },
  {
   "cell_type": "code",
   "execution_count": 3,
   "id": "10728ef6",
   "metadata": {},
   "outputs": [
    {
     "data": {
      "text/html": [
       "<div>\n",
       "<style scoped>\n",
       "    .dataframe tbody tr th:only-of-type {\n",
       "        vertical-align: middle;\n",
       "    }\n",
       "\n",
       "    .dataframe tbody tr th {\n",
       "        vertical-align: top;\n",
       "    }\n",
       "\n",
       "    .dataframe thead th {\n",
       "        text-align: right;\n",
       "    }\n",
       "</style>\n",
       "<table border=\"1\" class=\"dataframe\">\n",
       "  <thead>\n",
       "    <tr style=\"text-align: right;\">\n",
       "      <th></th>\n",
       "      <th>log_n</th>\n",
       "      <th>log_k</th>\n",
       "      <th>log_buckets</th>\n",
       "    </tr>\n",
       "  </thead>\n",
       "  <tbody>\n",
       "    <tr>\n",
       "      <th>0</th>\n",
       "      <td>0.693147</td>\n",
       "      <td>0.000000</td>\n",
       "      <td>0.000000</td>\n",
       "    </tr>\n",
       "    <tr>\n",
       "      <th>1</th>\n",
       "      <td>1.791759</td>\n",
       "      <td>1.098612</td>\n",
       "      <td>2.564949</td>\n",
       "    </tr>\n",
       "    <tr>\n",
       "      <th>2</th>\n",
       "      <td>2.302585</td>\n",
       "      <td>1.609438</td>\n",
       "      <td>4.262680</td>\n",
       "    </tr>\n",
       "    <tr>\n",
       "      <th>3</th>\n",
       "      <td>2.484907</td>\n",
       "      <td>1.609438</td>\n",
       "      <td>5.236442</td>\n",
       "    </tr>\n",
       "    <tr>\n",
       "      <th>4</th>\n",
       "      <td>2.639057</td>\n",
       "      <td>1.945910</td>\n",
       "      <td>5.849325</td>\n",
       "    </tr>\n",
       "  </tbody>\n",
       "</table>\n",
       "</div>"
      ],
      "text/plain": [
       "      log_n     log_k  log_buckets\n",
       "0  0.693147  0.000000     0.000000\n",
       "1  1.791759  1.098612     2.564949\n",
       "2  2.302585  1.609438     4.262680\n",
       "3  2.484907  1.609438     5.236442\n",
       "4  2.639057  1.945910     5.849325"
      ]
     },
     "execution_count": 3,
     "metadata": {},
     "output_type": "execute_result"
    }
   ],
   "source": [
    "import numpy\n",
    "\n",
    "dataFrameOddOdd['log_n'] = numpy.log(dataFrameOddOdd['n'])\n",
    "dataFrameOddOdd['log_k'] = numpy.log(dataFrameOddOdd['k'])\n",
    "dataFrameOddOdd['log_buckets'] = numpy.log(dataFrameOddOdd['buckets'])\n",
    "dataFrameOddOdd[['log_n', 'log_k', 'log_buckets']].head()"
   ]
  },
  {
   "cell_type": "markdown",
   "id": "5e84763a",
   "metadata": {},
   "source": [
    "## 4. Fit Logarithmic Model\n",
    "\n",
    "Fit a linear regression model to the transformed data:\n",
    "\n",
    "$$\n",
    "\\log(\\text{buckets}) = a \\log(n) + b \\log(k) + c\n",
    "$$"
   ]
  },
  {
   "cell_type": "code",
   "execution_count": 4,
   "id": "7abb5ee9",
   "metadata": {},
   "outputs": [
    {
     "name": "stdout",
     "output_type": "stream",
     "text": [
      "Fitted model: log(buckets) = 13.5498 * log(n) + -6.7147 * log(k) + -15.0645\n"
     ]
    }
   ],
   "source": [
    "from sklearn.linear_model import LinearRegression\n",
    "\n",
    "arrayFeatures = dataFrameOddOdd[['log_n', 'log_k']].values\n",
    "arrayTarget = dataFrameOddOdd['log_buckets'].values\n",
    "linearRegressionModel = LinearRegression()\n",
    "linearRegressionModel.fit(arrayFeatures, arrayTarget)\n",
    "\n",
    "coefficientA = linearRegressionModel.coef_[0]\n",
    "coefficientB = linearRegressionModel.coef_[1]\n",
    "interceptC = linearRegressionModel.intercept_\n",
    "\n",
    "print(f\"Fitted model: log(buckets) = {coefficientA:.4f} * log(n) + {coefficientB:.4f} * log(k) + {interceptC:.4f}\")"
   ]
  },
  {
   "cell_type": "markdown",
   "id": "8fc93562",
   "metadata": {},
   "source": [
    "## 5. Evaluate Model Performance\n",
    "\n",
    "Assess the model fit using $R^2$ and plot predicted vs actual values."
   ]
  },
  {
   "cell_type": "code",
   "execution_count": 5,
   "id": "a4de9c81",
   "metadata": {},
   "outputs": [
    {
     "name": "stdout",
     "output_type": "stream",
     "text": [
      "R^2 of fit: 0.8649\n"
     ]
    },
    {
     "data": {
      "image/png": "[encoded data removed]",
      "text/plain": [
       "<Figure size 600x600 with 1 Axes>"
      ]
     },
     "metadata": {},
     "output_type": "display_data"
    }
   ],
   "source": [
    "predictedLogBuckets = linearRegressionModel.predict(arrayFeatures)\n",
    "predictedBuckets = numpy.exp(predictedLogBuckets)\n",
    "\n",
    "rSquared = linearRegressionModel.score(arrayFeatures, arrayTarget)\n",
    "print(f\"R^2 of fit: {rSquared:.4f}\")\n",
    "\n",
    "pyplot.figure(figsize=(6, 6))\n",
    "pyplot.scatter(dataFrameOddOdd['buckets'], predictedBuckets)\n",
    "pyplot.xlabel('Actual buckets')\n",
    "pyplot.ylabel('Predicted buckets')\n",
    "pyplot.title('Predicted vs Actual buckets')\n",
    "pyplot.plot([dataFrameOddOdd['buckets'].min(), dataFrameOddOdd['buckets'].max()],\n",
    "         [dataFrameOddOdd['buckets'].min(), dataFrameOddOdd['buckets'].max()], 'r--')\n",
    "pyplot.show()"
   ]
  },
  {
   "cell_type": "markdown",
   "id": "05235883",
   "metadata": {},
   "source": [
    "## 6. Define Estimation Function in Python\n",
    "\n",
    "Define a self-contained Python function to estimate 'buckets' given 'n' and 'k' using the fitted model."
   ]
  },
  {
   "cell_type": "code",
   "execution_count": 6,
   "id": "6f875704",
   "metadata": {},
   "outputs": [
    {
     "name": "stdout",
     "output_type": "stream",
     "text": [
      "Estimated buckets for n=22, k=11: 45130.30\n"
     ]
    }
   ],
   "source": [
    "def estimateBuckets(parameterN, parameterK):\n",
    "    \"\"\"\n",
    "    Estimate the number of buckets given n and k using the fitted logarithmic model.\n",
    "    \"\"\"\n",
    "    import numpy\n",
    "    # Coefficients from the fitted model\n",
    "    coefficientA = linearRegressionModel.coef_[0]\n",
    "    coefficientB = linearRegressionModel.coef_[1]\n",
    "    interceptC = linearRegressionModel.intercept_\n",
    "    return numpy.exp(coefficientA * numpy.log(parameterN) + coefficientB * numpy.log(parameterK) + interceptC)\n",
    "\n",
    "# Example usage:\n",
    "estimated = estimateBuckets(22, 11)\n",
    "print(f\"Estimated buckets for n=22, k=11: {estimated:.2f}\")"
   ]
  },
  {
   "cell_type": "markdown",
   "id": "7c82ddeb",
   "metadata": {},
   "source": [
    "## 7. Test Estimation Function\n",
    "\n",
    "Test the estimation function on several sample values and compare its output to actual data from the CSV."
   ]
  },
  {
   "cell_type": "code",
   "execution_count": 7,
   "id": "c75759c2",
   "metadata": {},
   "outputs": [
    {
     "name": "stdout",
     "output_type": "stream",
     "text": [
      "n=2.0, k=1.0: Actual=1.0, Estimated=0.00\n",
      "n=6.0, k=3.0: Actual=13.0, Estimated=6.28\n",
      "n=10.0, k=5.0: Actual=71.0, Estimated=206.05\n",
      "n=12.0, k=5.0: Actual=188.0, Estimated=2437.04\n",
      "n=14.0, k=7.0: Actual=347.0, Estimated=2054.82\n",
      "n=16.0, k=7.0: Actual=1042.0, Estimated=12547.35\n",
      "n=18.0, k=9.0: Actual=1643.0, Estimated=11449.53\n",
      "n=20.0, k=9.0: Actual=5428.0, Estimated=47730.00\n",
      "n=22.0, k=11.0: Actual=7692.0, Estimated=45130.30\n",
      "n=22.0, k=9.0: Actual=13497.0, Estimated=173641.31\n"
     ]
    }
   ],
   "source": [
    "for index, row in dataFrameOddOdd.head(10).iterrows():\n",
    "    estimatedValue = estimateBuckets(row['n'], row['k'])\n",
    "    print(f\"n={row['n']}, k={row['k']}: Actual={row['buckets']}, Estimated={estimatedValue:.2f}\")"
   ]
  }
 ],
 "metadata": {
  "kernelspec": {
   "display_name": ".vanalysis (3.13.7)",
   "language": "python",
   "name": "python3"
  },
  "language_info": {
   "codemirror_mode": {
    "name": "ipython",
    "version": 3
   },
   "file_extension": ".py",
   "mimetype": "text/x-python",
   "name": "python",
   "nbconvert_exporter": "python",
   "pygments_lexer": "ipython3",
   "version": "3.13.7"
  }
 },
 "nbformat": 4,
 "nbformat_minor": 5
}
