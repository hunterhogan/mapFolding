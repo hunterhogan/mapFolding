{
 "cells": [
  {
   "cell_type": "markdown",
   "metadata": {},
   "source": [
    "# Initialize Setup and Functions\n",
    "Import required libraries and define helper functions for timing and result management. Include configuration for threshold and data storage."
   ]
  },
  {
   "cell_type": "code",
   "execution_count": 1,
   "metadata": {},
   "outputs": [],
   "source": [
    "from tqdm.auto import tqdm\n",
    "from timeit import default_timer as timer\n",
    "from mapFolding import oeisSequence_aOFn\n",
    "from mapFolding.oeis import settingsOEISsequences\n",
    "\n",
    "dictionaryOfTimeTuples = {key: [] for key in settingsOEISsequences.keys()}\n",
    "def warm_up():\n",
    "    first_key = list(settingsOEISsequences.keys())[0]\n",
    "    oeisSequence_aOFn(first_key, 2)\n",
    "\n",
    "# Helper function to benchmark OEIS sequence calculations\n",
    "def benchmark_oeis_sequences(threshold):\n",
    "    for oeisID in tqdm(settingsOEISsequences.keys()):\n",
    "        # Find the last n value already tested for this key\n",
    "        listTimes = dictionaryOfTimeTuples.get(oeisID, [])\n",
    "        if listTimes:\n",
    "            n, timeTotal = listTimes[-1]\n",
    "            n += 1\n",
    "        else:\n",
    "            n = 2\n",
    "            timeTotal = 0\n",
    "\n",
    "        while True:\n",
    "            if timeTotal > threshold:\n",
    "                break\n",
    "            timeStart = timer()\n",
    "            foldsTotal = oeisSequence_aOFn(oeisID, n)\n",
    "            timeEnd = timer()\n",
    "            assert foldsTotal == settingsOEISsequences[oeisID]['valuesKnown'][n]\n",
    "            timeTotal = timeEnd - timeStart\n",
    "\n",
    "            dictionaryOfTimeTuples[oeisID].append((n, timeTotal))\n",
    "            n += 1\n"
   ]
  },
  {
   "cell_type": "markdown",
   "metadata": {},
   "source": [
    "# Run Performance Tests\n",
    "Implement timing tests for each OEIS sequence with increasing n values until reaching the threshold. Store results in a dictionary with sequence IDs as keys."
   ]
  },
  {
   "cell_type": "code",
   "execution_count": null,
   "metadata": {},
   "outputs": [],
   "source": [
    "warm_up()\n",
    "\n",
    "# Configuration for threshold (in seconds)\n",
    "threshold = 1.0\n",
    "\n",
    "benchmark_oeis_sequences(threshold)\n",
    "\n",
    "for oeisID, listTimes in dictionaryOfTimeTuples.items():\n",
    "    n, timeTotal = listTimes[-1]\n",
    "    print(oeisID, n, timeTotal, sep=\"\\t\")\n"
   ]
  }
 ],
 "metadata": {
  "kernelspec": {
   "display_name": "mapFolding",
   "language": "python",
   "name": "python3"
  },
  "language_info": {
   "codemirror_mode": {
    "name": "ipython",
    "version": 3
   },
   "file_extension": ".py",
   "mimetype": "text/x-python",
   "name": "python",
   "nbconvert_exporter": "python",
   "pygments_lexer": "ipython3",
   "version": "3.12.7"
  }
 },
 "nbformat": 4,
 "nbformat_minor": 2
}
