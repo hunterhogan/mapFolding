{
 "cells": [
  {
   "cell_type": "markdown",
   "metadata": {},
   "source": [
    "# Map Folding Algorithm Performance Analysis\n",
    "\n",
    "Analyze benchmark data from the map folding algorithm implementation."
   ]
  },
  {
   "cell_type": "code",
   "execution_count": 1,
   "metadata": {},
   "outputs": [],
   "source": [
    "import numpy\n",
    "import pandas\n",
    "from pathlib import Path\n",
    "import matplotlib.pyplot as plt\n",
    "import seaborn\n",
    "\n",
    "# Configure plotting style\n",
    "seaborn.set_style('whitegrid')\n",
    "plt.rcParams['figure.figsize'] = [12, 6]\n",
    "\n",
    "# Load benchmark data\n",
    "pathBenchmarkFile = Path('marks/benchmarks.npy')\n",
    "arrayBenchmarks = numpy.load(pathBenchmarkFile, allow_pickle=True)\n",
    "\n",
    "# Convert to DataFrame\n",
    "dfBenchmarks = pandas.DataFrame(arrayBenchmarks)\n",
    "\n",
    "# Add derived columns\n",
    "dfBenchmarks['dimensionCount'] = dfBenchmarks['dimensions'].apply(lambda x: len(x) if x is not None else 0)\n",
    "dfBenchmarks['dimensionProduct'] = dfBenchmarks['dimensions'].apply(lambda x: numpy.prod(x) if x is not None else 0)\n",
    "dfBenchmarks['dimensionsStr'] = dfBenchmarks['dimensions'].apply(lambda x: 'x'.join(map(str, x)) if x is not None else 'None')"
   ]
  },
  {
   "cell_type": "markdown",
   "metadata": {},
   "source": [
    "## Summary Statistics"
   ]
  },
  {
   "cell_type": "code",
   "execution_count": 2,
   "metadata": {},
   "outputs": [
    {
     "name": "stdout",
     "output_type": "stream",
     "text": [
      "               count      mean       std       min       25%       50%  \\\n",
      "dimensionsStr                                                            \n",
      "2x11           100.0  0.235197  0.134748  0.217152  0.219576  0.220380   \n",
      "2x12           100.0  1.057869  0.027285  1.036244  1.040272  1.045666   \n",
      "2x2x2x2x2      100.0  0.049763  0.001299  0.048802  0.049063  0.049281   \n",
      "3x3x3          100.0  2.546541  0.033016  2.514271  2.528437  2.536016   \n",
      "3x8            100.0  1.333479  0.011206  1.321228  1.328139  1.330312   \n",
      "5x5            100.0  1.583322  0.024486  1.560000  1.566933  1.572816   \n",
      "\n",
      "                    75%       max  \n",
      "dimensionsStr                      \n",
      "2x11           0.222073  1.568561  \n",
      "2x12           1.062377  1.161405  \n",
      "2x2x2x2x2      0.049641  0.056244  \n",
      "3x3x3          2.546568  2.725729  \n",
      "3x8            1.334394  1.386403  \n",
      "5x5            1.592023  1.666888  \n",
      "Median (seconds):\n",
      "dimensionsStr\n",
      "2x11         0.220380\n",
      "2x12         1.045666\n",
      "2x2x2x2x2    0.049281\n",
      "3x3x3        2.536016\n",
      "3x8          1.330312\n",
      "5x5          1.572816\n",
      "Name: time, dtype: float64\n"
     ]
    }
   ],
   "source": [
    "print(dfBenchmarks.groupby('dimensionsStr')['time'].describe())\n",
    "print(\"Median (seconds):\")\n",
    "print(dfBenchmarks.groupby('dimensionsStr')['time'].median())\n"
   ]
  },
  {
   "cell_type": "markdown",
   "metadata": {},
   "source": [
    "## Performance by Dimension Configuration"
   ]
  },
  {
   "cell_type": "code",
   "execution_count": null,
   "metadata": {},
   "outputs": [],
   "source": [
    "plt.figure(figsize=(14, 6))\n",
    "seaborn.boxplot(data=dfBenchmarks, x='dimensionsStr', y='time')\n",
    "plt.xticks(rotation=45)\n",
    "plt.title('Execution Time Distribution by Dimension Configuration')\n",
    "plt.xlabel('Dimensions')\n",
    "plt.ylabel('Time (seconds)')\n",
    "plt.tight_layout()\n",
    "plt.show()"
   ]
  },
  {
   "cell_type": "markdown",
   "metadata": {},
   "source": [
    "## Task Division Analysis"
   ]
  },
  {
   "cell_type": "code",
   "execution_count": null,
   "metadata": {},
   "outputs": [],
   "source": [
    "# Plot execution time vs tasks for each dimension configuration\n",
    "plt.figure(figsize=(14, 6))\n",
    "seaborn.scatterplot(data=dfBenchmarks, x='tasks', y='time', hue='dimensionsStr', style='dimensionsStr')\n",
    "plt.title('Execution Time vs Tasks by Dimension Configuration')\n",
    "plt.xlabel('Number of Tasks')\n",
    "plt.ylabel('Time (seconds)')\n",
    "plt.legend(title='Dimensions', bbox_to_anchor=(1.05, 1), loc='upper left')\n",
    "plt.tight_layout()\n",
    "plt.show()"
   ]
  },
  {
   "cell_type": "markdown",
   "metadata": {},
   "source": [
    "## Scaling Analysis"
   ]
  },
  {
   "cell_type": "code",
   "execution_count": null,
   "metadata": {},
   "outputs": [],
   "source": [
    "plt.figure(figsize=(14, 6))\n",
    "seaborn.scatterplot(data=dfBenchmarks, x='dimensionProduct', y='time', hue='tasks')\n",
    "plt.title('Execution Time vs Problem Size')\n",
    "plt.xlabel('Total Number of Positions (Product of Dimensions)')\n",
    "plt.ylabel('Time (seconds)')\n",
    "plt.yscale('log')\n",
    "plt.xscale('log')\n",
    "plt.legend(title='Tasks')\n",
    "plt.tight_layout()\n",
    "plt.show()"
   ]
  }
 ],
 "metadata": {
  "kernelspec": {
   "display_name": "mapFolding",
   "language": "python",
   "name": "python3"
  },
  "language_info": {
   "codemirror_mode": {
    "name": "ipython",
    "version": 3
   },
   "file_extension": ".py",
   "mimetype": "text/x-python",
   "name": "python",
   "nbconvert_exporter": "python",
   "pygments_lexer": "ipython3",
   "version": "3.12.7"
  }
 },
 "nbformat": 4,
 "nbformat_minor": 4
}
