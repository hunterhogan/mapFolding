{
 "cells": [
  {
   "cell_type": "markdown",
   "metadata": {},
   "source": [
    "# Map Folding Algorithm Performance Analysis\n",
    "\n",
    "Analyze benchmark data from the map folding algorithm implementation."
   ]
  },
  {
   "cell_type": "code",
   "execution_count": null,
   "metadata": {},
   "outputs": [],
   "source": [
    "import numpy\n",
    "import pandas\n",
    "from pathlib import Path\n",
    "import matplotlib.pyplot as plt\n",
    "import seaborn\n",
    "\n",
    "# Configure plotting style\n",
    "seaborn.set_style('whitegrid')\n",
    "plt.rcParams['figure.figsize'] = [12, 6]\n",
    "\n",
    "# Load benchmark data\n",
    "pathBenchmarkFile = Path('marks/benchmarks.npy')\n",
    "arrayBenchmarks = numpy.load(pathBenchmarkFile, allow_pickle=True)\n",
    "\n",
    "# Convert to DataFrame\n",
    "dfBenchmarks = pandas.DataFrame(arrayBenchmarks)\n",
    "\n",
    "# Add derived columns\n",
    "dfBenchmarks['dimensionsStr'] = dfBenchmarks['dimensions'].apply(lambda x: 'x'.join(map(str, x)) if x is not None else 'None')\n",
    "print(dfBenchmarks.groupby('dimensionsStr')['time'].median())\n"
   ]
  },
  {
   "cell_type": "markdown",
   "metadata": {},
   "source": [
    "## Performance by Dimension Configuration"
   ]
  },
  {
   "cell_type": "code",
   "execution_count": null,
   "metadata": {},
   "outputs": [],
   "source": [
    "plt.figure(figsize=(14, 6))\n",
    "seaborn.boxplot(data=dfBenchmarks, x='dimensionsStr', y='time')\n",
    "plt.xticks(rotation=45)\n",
    "plt.title('Execution Time Distribution by Dimension Configuration')\n",
    "plt.xlabel('Dimensions')\n",
    "plt.ylabel('Time (seconds)')\n",
    "plt.tight_layout()\n",
    "plt.show()"
   ]
  }
 ],
 "metadata": {
  "kernelspec": {
   "display_name": "mapFolding",
   "language": "python",
   "name": "python3"
  },
  "language_info": {
   "codemirror_mode": {
    "name": "ipython",
    "version": 3
   },
   "file_extension": ".py",
   "mimetype": "text/x-python",
   "name": "python",
   "nbconvert_exporter": "python",
   "pygments_lexer": "ipython3",
   "version": "3.12.7"
  }
 },
 "nbformat": 4,
 "nbformat_minor": 4
}
