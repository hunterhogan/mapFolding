{
 "cells": [
  {
   "cell_type": "markdown",
   "metadata": {},
   "source": [
    "# Map Folding Algorithm Performance Analysis"
   ]
  },
  {
   "cell_type": "code",
   "execution_count": null,
   "metadata": {},
   "outputs": [
    {
     "name": "stdout",
     "output_type": "stream",
     "text": [
      "leaves\n",
      "24    1.261257\n",
      "25    1.483584\n",
      "26    5.531100\n",
      "27    2.492941\n",
      "32    0.047988\n",
      "Name: time, dtype: float64\n"
     ]
    }
   ],
   "source": [
    "import numpy, pandas\n",
    "\n",
    "arrayBenchmarks = numpy.load(\"marks/benchmarks.npy\", allow_pickle=True)\n",
    "dataframeBenchmarks = pandas.DataFrame(arrayBenchmarks)\n",
    "\n",
    "print(dataframeBenchmarks.groupby('leaves')['time'].median())\n"
   ]
  },
  {
   "cell_type": "markdown",
   "metadata": {},
   "source": [
    "lolaOne\n",
    "24    1.141415\n",
    "25    1.336901\n",
    "26    5.015368\n",
    "27    2.239268\n",
    "32    0.043280\n",
    "Name: time, dtype: float64\n",
    "\n",
    "lolaVector\n",
    "leaves\n",
    "24    1.138827\n",
    "25    1.354188\n",
    "26    4.777704\n",
    "27    2.272719\n",
    "32    0.043608\n",
    "Name: time, dtype: float64\n",
    "\n",
    "new lolaVector\n",
    "leaves\n",
    "24    1.121981\n",
    "25    1.328347\n",
    "26    4.615790\n",
    "27    2.272478\n",
    "32    0.042602\n",
    "Name: time, dtype: float64"
   ]
  }
 ],
 "metadata": {
  "kernelspec": {
   "display_name": "mapFolding",
   "language": "python",
   "name": "python3"
  },
  "language_info": {
   "codemirror_mode": {
    "name": "ipython",
    "version": 3
   },
   "file_extension": ".py",
   "mimetype": "text/x-python",
   "name": "python",
   "nbconvert_exporter": "python",
   "pygments_lexer": "ipython3",
   "version": "3.12.7"
  }
 },
 "nbformat": 4,
 "nbformat_minor": 4
}
