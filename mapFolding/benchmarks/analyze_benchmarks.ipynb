{
 "cells": [
  {
   "cell_type": "markdown",
   "metadata": {},
   "source": [
    "# Map Folding Algorithm Performance Analysis\n",
    "\n",
    "Analyze benchmark data from the map folding algorithm implementation."
   ]
  },
  {
   "cell_type": "code",
   "execution_count": 1,
   "metadata": {},
   "outputs": [],
   "source": [
    "import numpy\n",
    "import pandas\n",
    "from pathlib import Path\n",
    "import matplotlib.pyplot as plt\n",
    "import seaborn\n",
    "\n",
    "# Configure plotting style\n",
    "seaborn.set_style('whitegrid')\n",
    "plt.rcParams['figure.figsize'] = [12, 6]\n",
    "\n",
    "# Load benchmark data\n",
    "pathBenchmarkFile = Path('marks/benchmarks.npy')\n",
    "arrayBenchmarks = numpy.load(pathBenchmarkFile, allow_pickle=True)\n",
    "\n",
    "# Convert to DataFrame\n",
    "dfBenchmarks = pandas.DataFrame(arrayBenchmarks)\n",
    "\n",
    "# Add derived columns\n",
    "dfBenchmarks['dimensionCount'] = dfBenchmarks['dimensions'].apply(lambda x: len(x) if x is not None else 0)\n",
    "dfBenchmarks['dimensionProduct'] = dfBenchmarks['dimensions'].apply(lambda x: numpy.prod(x) if x is not None else 0)\n",
    "dfBenchmarks['dimensionsStr'] = dfBenchmarks['dimensions'].apply(lambda x: 'x'.join(map(str, x)) if x is not None else 'None')"
   ]
  },
  {
   "cell_type": "markdown",
   "metadata": {},
   "source": [
    "## Summary Statistics"
   ]
  },
  {
   "cell_type": "code",
   "execution_count": 2,
   "metadata": {},
   "outputs": [
    {
     "name": "stdout",
     "output_type": "stream",
     "text": [
      "               count      mean       std       min       25%       50%  \\\n",
      "dimensionsStr                                                            \n",
      "2x12           100.0  1.112894  0.113472  1.093596  1.095571  1.097549   \n",
      "2x13           100.0  5.515276  0.044003  5.473378  5.487635  5.498309   \n",
      "2x2x2x2x2      100.0  0.046568  0.001637  0.045665  0.045790  0.046042   \n",
      "3x3x3          100.0  2.455627  0.028821  2.430622  2.437876  2.442567   \n",
      "3x8            100.0  1.250104  0.012729  1.242117  1.244246  1.247095   \n",
      "5x5            100.0  1.479333  0.024573  1.450476  1.459897  1.469719   \n",
      "\n",
      "                    75%       max  \n",
      "dimensionsStr                      \n",
      "2x12           1.100608  2.228861  \n",
      "2x13           5.522102  5.680837  \n",
      "2x2x2x2x2      0.046638  0.058066  \n",
      "3x3x3          2.457623  2.581989  \n",
      "3x8            1.249450  1.334568  \n",
      "5x5            1.496669  1.554487  \n",
      "Median (seconds):\n",
      "dimensionsStr\n",
      "2x12         1.097549\n",
      "2x13         5.498309\n",
      "2x2x2x2x2    0.046042\n",
      "3x3x3        2.442567\n",
      "3x8          1.247095\n",
      "5x5          1.469719\n",
      "Name: time, dtype: float64\n"
     ]
    }
   ],
   "source": [
    "print(dfBenchmarks.groupby('dimensionsStr')['time'].describe())\n",
    "print(\"Median (seconds):\")\n",
    "print(dfBenchmarks.groupby('dimensionsStr')['time'].median())\n"
   ]
  },
  {
   "cell_type": "markdown",
   "metadata": {},
   "source": [
    "## Performance by Dimension Configuration"
   ]
  },
  {
   "cell_type": "code",
   "execution_count": null,
   "metadata": {},
   "outputs": [],
   "source": [
    "plt.figure(figsize=(14, 6))\n",
    "seaborn.boxplot(data=dfBenchmarks, x='dimensionsStr', y='time')\n",
    "plt.xticks(rotation=45)\n",
    "plt.title('Execution Time Distribution by Dimension Configuration')\n",
    "plt.xlabel('Dimensions')\n",
    "plt.ylabel('Time (seconds)')\n",
    "plt.tight_layout()\n",
    "plt.show()"
   ]
  },
  {
   "cell_type": "markdown",
   "metadata": {},
   "source": [
    "## Task Division Analysis"
   ]
  },
  {
   "cell_type": "code",
   "execution_count": null,
   "metadata": {},
   "outputs": [],
   "source": [
    "# Plot execution time vs tasks for each dimension configuration\n",
    "plt.figure(figsize=(14, 6))\n",
    "seaborn.scatterplot(data=dfBenchmarks, x='tasks', y='time', hue='dimensionsStr', style='dimensionsStr')\n",
    "plt.title('Execution Time vs Tasks by Dimension Configuration')\n",
    "plt.xlabel('Number of Tasks')\n",
    "plt.ylabel('Time (seconds)')\n",
    "plt.legend(title='Dimensions', bbox_to_anchor=(1.05, 1), loc='upper left')\n",
    "plt.tight_layout()\n",
    "plt.show()"
   ]
  },
  {
   "cell_type": "markdown",
   "metadata": {},
   "source": [
    "## Scaling Analysis"
   ]
  },
  {
   "cell_type": "code",
   "execution_count": null,
   "metadata": {},
   "outputs": [],
   "source": [
    "plt.figure(figsize=(14, 6))\n",
    "seaborn.scatterplot(data=dfBenchmarks, x='dimensionProduct', y='time', hue='tasks')\n",
    "plt.title('Execution Time vs Problem Size')\n",
    "plt.xlabel('Total Number of Positions (Product of Dimensions)')\n",
    "plt.ylabel('Time (seconds)')\n",
    "plt.yscale('log')\n",
    "plt.xscale('log')\n",
    "plt.legend(title='Tasks')\n",
    "plt.tight_layout()\n",
    "plt.show()"
   ]
  }
 ],
 "metadata": {
  "kernelspec": {
   "display_name": "mapFolding",
   "language": "python",
   "name": "python3"
  },
  "language_info": {
   "codemirror_mode": {
    "name": "ipython",
    "version": 3
   },
   "file_extension": ".py",
   "mimetype": "text/x-python",
   "name": "python",
   "nbconvert_exporter": "python",
   "pygments_lexer": "ipython3",
   "version": "3.12.7"
  }
 },
 "nbformat": 4,
 "nbformat_minor": 4
}
