{
 "cells": [
  {
   "cell_type": "markdown",
   "metadata": {},
   "source": [
    "# Map Folding Algorithm Performance Analysis\n",
    "\n",
    "Analyze benchmark data from the map folding algorithm implementation."
   ]
  },
  {
   "cell_type": "code",
   "execution_count": 1,
   "metadata": {},
   "outputs": [],
   "source": [
    "import numpy\n",
    "import pandas\n",
    "from pathlib import Path\n",
    "import matplotlib.pyplot as plt\n",
    "import seaborn\n",
    "\n",
    "# Configure plotting style\n",
    "seaborn.set_style('whitegrid')\n",
    "plt.rcParams['figure.figsize'] = [12, 6]\n",
    "\n",
    "# Load benchmark data\n",
    "pathBenchmarkFile = Path('marks/benchmarks.npy')\n",
    "arrayBenchmarks = numpy.load(pathBenchmarkFile, allow_pickle=True)\n",
    "\n",
    "# Convert to DataFrame\n",
    "dfBenchmarks = pandas.DataFrame(arrayBenchmarks)\n",
    "\n",
    "# Add derived columns\n",
    "dfBenchmarks['dimensionCount'] = dfBenchmarks['dimensions'].apply(lambda x: len(x) if x is not None else 0)\n",
    "dfBenchmarks['dimensionProduct'] = dfBenchmarks['dimensions'].apply(lambda x: numpy.prod(x) if x is not None else 0)\n",
    "dfBenchmarks['dimensionsStr'] = dfBenchmarks['dimensions'].apply(lambda x: 'x'.join(map(str, x)) if x is not None else 'None')"
   ]
  },
  {
   "cell_type": "markdown",
   "metadata": {},
   "source": [
    "## Summary Statistics"
   ]
  },
  {
   "cell_type": "code",
   "execution_count": 2,
   "metadata": {},
   "outputs": [
    {
     "name": "stdout",
     "output_type": "stream",
     "text": [
      "               count      mean       std       min       25%       50%  \\\n",
      "dimensionsStr                                                            \n",
      "2x11           100.0  0.245076  0.089574  0.233962  0.234656  0.235062   \n",
      "2x2x2x2x2      100.0  0.045520  0.000581  0.045046  0.045196  0.045312   \n",
      "3x3x3          100.0  2.442653  0.008753  2.430416  2.435601  2.440241   \n",
      "3x8            100.0  1.254273  0.005344  1.248475  1.251006  1.253290   \n",
      "5x5            100.0  1.466555  0.007084  1.457515  1.462099  1.465302   \n",
      "\n",
      "                    75%       max  \n",
      "dimensionsStr                      \n",
      "2x11           0.236145  1.131336  \n",
      "2x2x2x2x2      0.045554  0.048291  \n",
      "3x3x3          2.447204  2.467829  \n",
      "3x8            1.255986  1.288280  \n",
      "5x5            1.468853  1.494854  \n",
      "Median (seconds):\n",
      "dimensionsStr\n",
      "2x11         0.235062\n",
      "2x2x2x2x2    0.045312\n",
      "3x3x3        2.440241\n",
      "3x8          1.253290\n",
      "5x5          1.465302\n",
      "Name: time, dtype: float64\n",
      "{}\n"
     ]
    }
   ],
   "source": [
    "print(dfBenchmarks.groupby('dimensionsStr')['time'].describe())\n",
    "print(\"Median (seconds):\")\n",
    "print(dfBenchmarks.groupby('dimensionsStr')['time'].median())\n"
   ]
  },
  {
   "cell_type": "markdown",
   "metadata": {},
   "source": [
    "## Performance by Dimension Configuration"
   ]
  },
  {
   "cell_type": "code",
   "execution_count": null,
   "metadata": {},
   "outputs": [],
   "source": [
    "plt.figure(figsize=(14, 6))\n",
    "seaborn.boxplot(data=dfBenchmarks, x='dimensionsStr', y='time')\n",
    "plt.xticks(rotation=45)\n",
    "plt.title('Execution Time Distribution by Dimension Configuration')\n",
    "plt.xlabel('Dimensions')\n",
    "plt.ylabel('Time (seconds)')\n",
    "plt.tight_layout()\n",
    "plt.show()"
   ]
  },
  {
   "cell_type": "markdown",
   "metadata": {},
   "source": [
    "## Task Division Analysis"
   ]
  },
  {
   "cell_type": "code",
   "execution_count": null,
   "metadata": {},
   "outputs": [],
   "source": [
    "# Plot execution time vs tasks for each dimension configuration\n",
    "plt.figure(figsize=(14, 6))\n",
    "seaborn.scatterplot(data=dfBenchmarks, x='tasks', y='time', hue='dimensionsStr', style='dimensionsStr')\n",
    "plt.title('Execution Time vs Tasks by Dimension Configuration')\n",
    "plt.xlabel('Number of Tasks')\n",
    "plt.ylabel('Time (seconds)')\n",
    "plt.legend(title='Dimensions', bbox_to_anchor=(1.05, 1), loc='upper left')\n",
    "plt.tight_layout()\n",
    "plt.show()"
   ]
  },
  {
   "cell_type": "markdown",
   "metadata": {},
   "source": [
    "## Scaling Analysis"
   ]
  },
  {
   "cell_type": "code",
   "execution_count": null,
   "metadata": {},
   "outputs": [],
   "source": [
    "plt.figure(figsize=(14, 6))\n",
    "seaborn.scatterplot(data=dfBenchmarks, x='dimensionProduct', y='time', hue='tasks')\n",
    "plt.title('Execution Time vs Problem Size')\n",
    "plt.xlabel('Total Number of Positions (Product of Dimensions)')\n",
    "plt.ylabel('Time (seconds)')\n",
    "plt.yscale('log')\n",
    "plt.xscale('log')\n",
    "plt.legend(title='Tasks')\n",
    "plt.tight_layout()\n",
    "plt.show()"
   ]
  }
 ],
 "metadata": {
  "kernelspec": {
   "display_name": "mapFolding",
   "language": "python",
   "name": "python3"
  },
  "language_info": {
   "codemirror_mode": {
    "name": "ipython",
    "version": 3
   },
   "file_extension": ".py",
   "mimetype": "text/x-python",
   "name": "python",
   "nbconvert_exporter": "python",
   "pygments_lexer": "ipython3",
   "version": "3.12.7"
  }
 },
 "nbformat": 4,
 "nbformat_minor": 4
}
