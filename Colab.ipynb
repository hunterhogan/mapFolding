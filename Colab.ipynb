{
 "cells": [
  {
   "cell_type": "markdown",
   "metadata": {},
   "source": [
    "# Initialize"
   ]
  },
  {
   "cell_type": "code",
   "execution_count": null,
   "metadata": {},
   "outputs": [],
   "source": [
    "import sys\n",
    "if 'google.colab' in sys.modules:\n",
    "    from google.colab import drive # type: ignore\n",
    "    drive.mount('/content/drive')\n",
    "%pip install mapFolding[cupy]@git+https://github.com/hunterhogan/mapFolding.git"
   ]
  },
  {
   "cell_type": "markdown",
   "metadata": {},
   "source": [
    "# Testing"
   ]
  },
  {
   "cell_type": "code",
   "execution_count": 1,
   "metadata": {},
   "outputs": [],
   "source": [
    "import pathlib\n",
    "from mapFolding import countFolds\n",
    "from mapFolding.lolaOne import doJob\n",
    "from mapFolding.oeis import settingsOEIS\n",
    "import time\n",
    "oeisID = 'A001415'"
   ]
  },
  {
   "cell_type": "markdown",
   "metadata": {},
   "source": [
    "## Create job"
   ]
  },
  {
   "cell_type": "code",
   "execution_count": null,
   "metadata": {},
   "outputs": [],
   "source": [
    "n = 14\n",
    "listDimensions = [2, n]\n",
    "pathJob = pathlib.Path(\"/content/drive/MyDrive/dataHunter/mapFolding\")\n",
    "countFolds(listDimensions, pathJob=pathJob)"
   ]
  },
  {
   "cell_type": "markdown",
   "metadata": {},
   "source": [
    "## Do job and check performance"
   ]
  },
  {
   "cell_type": "code",
   "execution_count": null,
   "metadata": {},
   "outputs": [],
   "source": [
    "pathFilenameJob = pathJob / f\"[{','.join(map(str, listDimensions))}]\" / \"stateJob.npz\"\n",
    "timeStart = time.perf_counter()\n",
    "doJob(pathFilenameJob)\n",
    "timeElapsed = time.perf_counter() - timeStart\n",
    "\n",
    "pathFilenameFoldsTotal = pathFilenameJob.with_name(\"foldsTotal.txt\")\n",
    "print(f\"{pathFilenameFoldsTotal.exists()=}\")\n",
    "foldsTotalRecorded = int(pathFilenameFoldsTotal.read_text())\n",
    "print(foldsTotalRecorded == settingsOEIS[oeisID]['valuesKnown'][n], f\"{timeElapsed:.2f}\", foldsTotalRecorded)\n"
   ]
  }
 ],
 "metadata": {
  "kernelspec": {
   "display_name": ".py310",
   "language": "python",
   "name": "python3"
  },
  "language_info": {
   "codemirror_mode": {
    "name": "ipython",
    "version": 3
   },
   "file_extension": ".py",
   "mimetype": "text/x-python",
   "name": "python",
   "nbconvert_exporter": "python",
   "pygments_lexer": "ipython3",
   "version": "3.10.11"
  }
 },
 "nbformat": 4,
 "nbformat_minor": 2
}
