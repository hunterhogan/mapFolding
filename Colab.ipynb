{
  "cells": [
    {
      "cell_type": "markdown",
      "metadata": {
        "id": "WPzEPXnSG120"
      },
      "source": [
        "# Initialize"
      ]
    },
    {
      "cell_type": "code",
      "execution_count": 1,
      "metadata": {
        "id": "oY70_-nBG122",
        "outputId": "3019b4dd-f8b0-4a1d-faa5-94fb93061401",
        "colab": {
          "base_uri": "https://localhost:8080/"
        }
      },
      "outputs": [
        {
          "output_type": "stream",
          "name": "stdout",
          "text": [
            "Mounted at /content/drive\n",
            "Collecting mapFolding@ git+https://github.com/hunterhogan/mapFolding.git (from mapFolding[cupy]@ git+https://github.com/hunterhogan/mapFolding.git)\n",
            "  Cloning https://github.com/hunterhogan/mapFolding.git to /tmp/pip-install-9g3dgpjk/mapfolding_324c8e9948374a3db24977fe990c0487\n",
            "  Running command git clone --filter=blob:none --quiet https://github.com/hunterhogan/mapFolding.git /tmp/pip-install-9g3dgpjk/mapfolding_324c8e9948374a3db24977fe990c0487\n",
            "  Resolved https://github.com/hunterhogan/mapFolding.git to commit e7bf71aeb2e7c2a9257e5897d9a30468227c4b57\n",
            "  Installing build dependencies ... \u001b[?25l\u001b[?25hdone\n",
            "  Getting requirements to build wheel ... \u001b[?25l\u001b[?25hdone\n",
            "  Preparing metadata (pyproject.toml) ... \u001b[?25l\u001b[?25hdone\n",
            "Requirement already satisfied: numba in /usr/local/lib/python3.10/dist-packages (from mapFolding@ git+https://github.com/hunterhogan/mapFolding.git->mapFolding[cupy]@ git+https://github.com/hunterhogan/mapFolding.git) (0.60.0)\n",
            "Requirement already satisfied: numpy in /usr/local/lib/python3.10/dist-packages (from mapFolding@ git+https://github.com/hunterhogan/mapFolding.git->mapFolding[cupy]@ git+https://github.com/hunterhogan/mapFolding.git) (1.26.4)\n",
            "Collecting Z0Z-tools (from mapFolding@ git+https://github.com/hunterhogan/mapFolding.git->mapFolding[cupy]@ git+https://github.com/hunterhogan/mapFolding.git)\n",
            "  Downloading Z0Z_tools-0.6.8-py3-none-any.whl.metadata (3.7 kB)\n",
            "Requirement already satisfied: cupy-cuda12x<13.0 in /usr/local/lib/python3.10/dist-packages (from mapFolding@ git+https://github.com/hunterhogan/mapFolding.git->mapFolding[cupy]@ git+https://github.com/hunterhogan/mapFolding.git) (12.2.0)\n",
            "Requirement already satisfied: cuda-python in /usr/local/lib/python3.10/dist-packages (from mapFolding@ git+https://github.com/hunterhogan/mapFolding.git->mapFolding[cupy]@ git+https://github.com/hunterhogan/mapFolding.git) (12.2.1)\n",
            "Requirement already satisfied: fastrlock>=0.5 in /usr/local/lib/python3.10/dist-packages (from cupy-cuda12x<13.0->mapFolding@ git+https://github.com/hunterhogan/mapFolding.git->mapFolding[cupy]@ git+https://github.com/hunterhogan/mapFolding.git) (0.8.3)\n",
            "Requirement already satisfied: cython in /usr/local/lib/python3.10/dist-packages (from cuda-python->mapFolding@ git+https://github.com/hunterhogan/mapFolding.git->mapFolding[cupy]@ git+https://github.com/hunterhogan/mapFolding.git) (3.0.11)\n",
            "Requirement already satisfied: llvmlite<0.44,>=0.43.0dev0 in /usr/local/lib/python3.10/dist-packages (from numba->mapFolding@ git+https://github.com/hunterhogan/mapFolding.git->mapFolding[cupy]@ git+https://github.com/hunterhogan/mapFolding.git) (0.43.0)\n",
            "Collecting resampy (from Z0Z-tools->mapFolding@ git+https://github.com/hunterhogan/mapFolding.git->mapFolding[cupy]@ git+https://github.com/hunterhogan/mapFolding.git)\n",
            "  Downloading resampy-0.4.3-py3-none-any.whl.metadata (3.0 kB)\n",
            "Requirement already satisfied: soundfile in /usr/local/lib/python3.10/dist-packages (from Z0Z-tools->mapFolding@ git+https://github.com/hunterhogan/mapFolding.git->mapFolding[cupy]@ git+https://github.com/hunterhogan/mapFolding.git) (0.13.0)\n",
            "Requirement already satisfied: packaging in /usr/local/lib/python3.10/dist-packages (from Z0Z-tools->mapFolding@ git+https://github.com/hunterhogan/mapFolding.git->mapFolding[cupy]@ git+https://github.com/hunterhogan/mapFolding.git) (24.2)\n",
            "Requirement already satisfied: pytest>=7.0 in /usr/local/lib/python3.10/dist-packages (from Z0Z-tools->mapFolding@ git+https://github.com/hunterhogan/mapFolding.git->mapFolding[cupy]@ git+https://github.com/hunterhogan/mapFolding.git) (8.3.4)\n",
            "Requirement already satisfied: exceptiongroup>=1.0.0rc8 in /usr/local/lib/python3.10/dist-packages (from pytest>=7.0->Z0Z-tools->mapFolding@ git+https://github.com/hunterhogan/mapFolding.git->mapFolding[cupy]@ git+https://github.com/hunterhogan/mapFolding.git) (1.2.2)\n",
            "Requirement already satisfied: iniconfig in /usr/local/lib/python3.10/dist-packages (from pytest>=7.0->Z0Z-tools->mapFolding@ git+https://github.com/hunterhogan/mapFolding.git->mapFolding[cupy]@ git+https://github.com/hunterhogan/mapFolding.git) (2.0.0)\n",
            "Requirement already satisfied: pluggy<2,>=1.5 in /usr/local/lib/python3.10/dist-packages (from pytest>=7.0->Z0Z-tools->mapFolding@ git+https://github.com/hunterhogan/mapFolding.git->mapFolding[cupy]@ git+https://github.com/hunterhogan/mapFolding.git) (1.5.0)\n",
            "Requirement already satisfied: tomli>=1 in /usr/local/lib/python3.10/dist-packages (from pytest>=7.0->Z0Z-tools->mapFolding@ git+https://github.com/hunterhogan/mapFolding.git->mapFolding[cupy]@ git+https://github.com/hunterhogan/mapFolding.git) (2.2.1)\n",
            "Requirement already satisfied: cffi>=1.0 in /usr/local/lib/python3.10/dist-packages (from soundfile->Z0Z-tools->mapFolding@ git+https://github.com/hunterhogan/mapFolding.git->mapFolding[cupy]@ git+https://github.com/hunterhogan/mapFolding.git) (1.17.1)\n",
            "Requirement already satisfied: pycparser in /usr/local/lib/python3.10/dist-packages (from cffi>=1.0->soundfile->Z0Z-tools->mapFolding@ git+https://github.com/hunterhogan/mapFolding.git->mapFolding[cupy]@ git+https://github.com/hunterhogan/mapFolding.git) (2.22)\n",
            "Downloading Z0Z_tools-0.6.8-py3-none-any.whl (23 kB)\n",
            "Downloading resampy-0.4.3-py3-none-any.whl (3.1 MB)\n",
            "\u001b[2K   \u001b[90m━━━━━━━━━━━━━━━━━━━━━━━━━━━━━━━━━━━━━━━━\u001b[0m \u001b[32m3.1/3.1 MB\u001b[0m \u001b[31m80.8 MB/s\u001b[0m eta \u001b[36m0:00:00\u001b[0m\n",
            "\u001b[?25hBuilding wheels for collected packages: mapFolding\n",
            "  Building wheel for mapFolding (pyproject.toml) ... \u001b[?25l\u001b[?25hdone\n",
            "  Created wheel for mapFolding: filename=mapFolding-0.1.3-py3-none-any.whl size=53258 sha256=2925adc5c6ecd333be09ec40350918f895432a87716f92c5e19866eeb112e049\n",
            "  Stored in directory: /tmp/pip-ephem-wheel-cache-2vxazpll/wheels/14/3e/e3/1ac7d57a9d405bf3bd7aac9b8fdab1867be016d49f2c87e7bc\n",
            "Successfully built mapFolding\n",
            "Installing collected packages: resampy, Z0Z-tools, mapFolding\n",
            "Successfully installed Z0Z-tools-0.6.8 mapFolding-0.1.3 resampy-0.4.3\n"
          ]
        }
      ],
      "source": [
        "import sys\n",
        "if 'google.colab' in sys.modules:\n",
        "    from google.colab import drive # type: ignore\n",
        "    drive.mount('/content/drive')\n",
        "%pip install mapFolding[cupy]@git+https://github.com/hunterhogan/mapFolding.git"
      ]
    },
    {
      "cell_type": "markdown",
      "metadata": {
        "id": "dBvvmC1VG123"
      },
      "source": [
        "# Testing"
      ]
    },
    {
      "cell_type": "code",
      "execution_count": 2,
      "metadata": {
        "id": "mGA4AVu4G124"
      },
      "outputs": [],
      "source": [
        "import pathlib\n",
        "from mapFolding import countFolds\n",
        "from mapFolding.lola import doJob\n",
        "from mapFolding.oeis import settingsOEIS\n",
        "import time\n",
        "oeisID = 'A001415'"
      ]
    },
    {
      "cell_type": "markdown",
      "metadata": {
        "id": "wFwjp89bG125"
      },
      "source": [
        "## CPU"
      ]
    },
    {
      "cell_type": "code",
      "execution_count": null,
      "metadata": {
        "id": "DcJcVbpYG125"
      },
      "outputs": [],
      "source": [
        "n = 6\n",
        "listDimensions = [2, n]\n",
        "pathJob = pathlib.Path(\"/content/drive/MyDrive/dataHunter/mapFolding\")\n",
        "pathFilenameJob: pathlib.Path = countFolds(listDimensions, pathJob=pathJob) # type: ignore\n",
        "\n",
        "timeStart = time.perf_counter()\n",
        "pathFilenameFoldsTotal = doJob(pathFilenameJob)\n",
        "timeElapsed = time.perf_counter() - timeStart\n",
        "\n",
        "foldsTotalRecorded = int(pathFilenameFoldsTotal.read_text())\n",
        "print(foldsTotalRecorded == settingsOEIS[oeisID]['valuesKnown'][n], f\"{timeElapsed:.2f}\", foldsTotalRecorded)\n",
        "\n",
        "timeStart = time.perf_counter()\n",
        "pathFilenameFoldsTotal = doJob(pathFilenameJob, True)\n",
        "timeElapsed = time.perf_counter() - timeStart\n",
        "\n",
        "foldsTotalRecorded = int(pathFilenameFoldsTotal.read_text())\n",
        "print(foldsTotalRecorded == settingsOEIS[oeisID]['valuesKnown'][n], f\"{timeElapsed:.2f}\", foldsTotalRecorded)\n"
      ]
    },
    {
      "cell_type": "markdown",
      "metadata": {
        "id": "VgfbMTlxG126"
      },
      "source": [
        "## GPU"
      ]
    },
    {
      "cell_type": "markdown",
      "metadata": {
        "id": "RtETj7YuG126"
      },
      "source": [
        "### Make job"
      ]
    },
    {
      "cell_type": "code",
      "execution_count": 10,
      "metadata": {
        "id": "KnP-cMy9G126"
      },
      "outputs": [],
      "source": [
        "n = 14\n",
        "listDimensions = [2, n]\n",
        "pathJob = pathlib.Path(\"/content/drive/MyDrive/dataHunter/mapFolding\")\n",
        "pathFilenameJob: pathlib.Path = countFolds(listDimensions, pathJob=pathJob) # type: ignore"
      ]
    },
    {
      "cell_type": "markdown",
      "metadata": {
        "id": "3vzJoy6mG128"
      },
      "source": [
        "### Do job and check performance"
      ]
    },
    {
      "cell_type": "code",
      "execution_count": 11,
      "metadata": {
        "id": "Pgt86UZfG128",
        "outputId": "70180359-26c2-41fb-c8a2-5803a3b05a34",
        "colab": {
          "base_uri": "https://localhost:8080/"
        }
      },
      "outputs": [
        {
          "output_type": "stream",
          "name": "stdout",
          "text": [
            "7432424160\n",
            "True 4107.19 7432424160\n"
          ]
        }
      ],
      "source": [
        "timeStart = time.perf_counter()\n",
        "pathFilenameFoldsTotal = doJob(pathFilenameJob, gpu=True)\n",
        "timeElapsed = time.perf_counter() - timeStart\n",
        "\n",
        "foldsTotalRecorded = int(pathFilenameFoldsTotal.read_text())\n",
        "print(foldsTotalRecorded == settingsOEIS[oeisID]['valuesKnown'][n], f\"{timeElapsed:.2f}\", foldsTotalRecorded)"
      ]
    },
    {
      "cell_type": "markdown",
      "metadata": {
        "id": "Xp0zwvGmG129"
      },
      "source": [
        "# Compute"
      ]
    },
    {
      "cell_type": "code",
      "execution_count": null,
      "metadata": {
        "id": "_BgFl_plG129"
      },
      "outputs": [],
      "source": [
        "n = 19\n",
        "listDimensions = [2, n]\n",
        "pathJob = pathlib.Path(\"/content/drive/MyDrive/dataHunter/mapFolding\")\n",
        "pathFilenameJob: pathlib.Path = countFolds(listDimensions, pathJob=pathJob) # type: ignore\n",
        "timeStart = time.perf_counter()\n",
        "pathFilenameFoldsTotal = doJob(pathFilenameJob, gpu=True)\n",
        "timeElapsed = time.perf_counter() - timeStart\n",
        "\n",
        "foldsTotalRecorded = int(pathFilenameFoldsTotal.read_text())\n",
        "print(foldsTotalRecorded == settingsOEIS[oeisID]['valuesKnown'][n], f\"{timeElapsed:.2f}\", foldsTotalRecorded)"
      ]
    }
  ],
  "metadata": {
    "kernelspec": {
      "display_name": "Python 3",
      "name": "python3"
    },
    "language_info": {
      "codemirror_mode": {
        "name": "ipython",
        "version": 3
      },
      "file_extension": ".py",
      "mimetype": "text/x-python",
      "name": "python",
      "nbconvert_exporter": "python",
      "pygments_lexer": "ipython3",
      "version": "3.10.11"
    },
    "colab": {
      "provenance": [],
      "gpuType": "T4"
    },
    "accelerator": "GPU"
  },
  "nbformat": 4,
  "nbformat_minor": 0
}